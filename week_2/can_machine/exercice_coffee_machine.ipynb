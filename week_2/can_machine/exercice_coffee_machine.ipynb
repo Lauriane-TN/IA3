{
 "cells": [
  {
   "cell_type": "markdown",
   "id": "271f13a1",
   "metadata": {},
   "source": [
    "<h1 style=\"text-align: center\">\n",
    "    Concevoir un logiciel de distributeur de cannette. \n",
    "</h1>\n",
    "\n",
    "\n",
    "**Le distributeur**\n",
    "* Le distributeur contient 100 cannettes.\n",
    "* Le distributeur contient 11,50 €.\n",
    "* Une cannette vaut 1,50 €.\n",
    "\n",
    "<hr>\n",
    "\n",
    "**Le consommateur**\n",
    "* Un consommateur peut acheter une cannette. Le stock diminue de 1. La trésorerie est également modifiée.\n",
    "* Le distributeur peut rendre la monnaie.\n",
    "\n",
    "<hr>\n",
    "\n",
    "**Le technicien**\n",
    "* Le technicien doit s’authentifier.\n",
    "* Le technicien peut afficher l’état du stock et de la trésorerie.\n",
    "* Le technicien peut ajouter des cannettes.\n",
    "* Le technicien peut vider la caisse.\n",
    "\n",
    "==> Persister la donnée dans un `csv` par exemple, et remodifier le code déjà effectué pour gérer la mécanique de sérialisation et de deserialisation :\n",
    "\n",
    "<img src=\"images/serialisation.png\" alt=\"schema sur la sérialisation et déserialisation\">\n",
    "\n",
    "pour modifier le csv a pour append et dans le code de lundi dernier on remplace write par read"
   ]
  }
 ],
 "metadata": {
  "hide_input": false,
  "kernelspec": {
   "display_name": "Python 3 (ipykernel)",
   "language": "python",
   "name": "python3"
  },
  "language_info": {
   "codemirror_mode": {
    "name": "ipython",
    "version": 3
   },
   "file_extension": ".py",
   "mimetype": "text/x-python",
   "name": "python",
   "nbconvert_exporter": "python",
   "pygments_lexer": "ipython3",
   "version": "3.8.12"
  },
  "toc": {
   "base_numbering": 1,
   "nav_menu": {},
   "number_sections": true,
   "sideBar": true,
   "skip_h1_title": false,
   "title_cell": "Table of Contents",
   "title_sidebar": "Contents",
   "toc_cell": false,
   "toc_position": {},
   "toc_section_display": true,
   "toc_window_display": false
  },
  "vscode": {
   "interpreter": {
    "hash": "3a33618eb99f4e23eac1a27711cb06558516716651fdfc2d24fa70848d03c863"
   }
  }
 },
 "nbformat": 4,
 "nbformat_minor": 5
}
