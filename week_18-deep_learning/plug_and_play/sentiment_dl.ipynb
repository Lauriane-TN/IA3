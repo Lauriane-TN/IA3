{
 "cells": [
  {
   "cell_type": "code",
   "execution_count": null,
   "metadata": {},
   "outputs": [],
   "source": [
    "## https://huggingface.co/cardiffnlp/twitter-roberta-base-sentiment"
   ]
  },
  {
   "cell_type": "code",
   "execution_count": 11,
   "metadata": {},
   "outputs": [],
   "source": [
    "from transformers import AutoModelForSequenceClassification\n",
    "from transformers import TFAutoModelForSequenceClassification\n",
    "from transformers import AutoTokenizer\n",
    "import numpy as np\n",
    "from scipy.special import softmax\n",
    "import csv\n",
    "import urllib.request\n",
    "import requests"
   ]
  },
  {
   "cell_type": "code",
   "execution_count": 10,
   "metadata": {},
   "outputs": [],
   "source": [
    "# Preprocess text (username and link placeholders)\n",
    "def preprocess(text):\n",
    "    new_text = []\n",
    "\n",
    "    for t in text.split(\" \"):\n",
    "        t = '@user' if t.startswith('@') and len(t) > 1 else t\n",
    "        t = 'http' if t.startswith('http') else t\n",
    "        new_text.append(t)\n",
    "    return \" \".join(new_text)\n"
   ]
  },
  {
   "cell_type": "code",
   "execution_count": 3,
   "metadata": {},
   "outputs": [],
   "source": [
    "# Tasks:\n",
    "# emoji, emotion, hate, irony, offensive, sentiment\n",
    "# stance/abortion, stance/atheism, stance/climate, stance/feminist, stance/hillary\n",
    "\n",
    "task = 'sentiment'\n",
    "MODEL = f\"cardiffnlp/twitter-roberta-base-{task}\"\n",
    "\n",
    "tokenizer = AutoTokenizer.from_pretrained(MODEL)\n"
   ]
  },
  {
   "cell_type": "code",
   "execution_count": 4,
   "metadata": {},
   "outputs": [],
   "source": [
    "# download label mapping\n",
    "labels = []\n",
    "mapping_link = f\"https://raw.githubusercontent.com/cardiffnlp/tweeteval/main/datasets/{task}/mapping.txt\"\n",
    "with urllib.request.urlopen(mapping_link) as f:\n",
    "    html = f.read().decode('utf-8').split(\"\\n\")\n",
    "    csvreader = csv.reader(html, delimiter='\\t')\n",
    "labels = [row[1] for row in csvreader if len(row) > 1]\n"
   ]
  },
  {
   "cell_type": "code",
   "execution_count": 5,
   "metadata": {},
   "outputs": [],
   "source": [
    "greatings = \"Noor Bukhari, the popular Pakistani actress, has recently been blessed with a baby boy, Muhammad Ali Raza. This news has been creating a buzz in the media and among her fans. Noor, who is already a mother of two beautiful daughters, shared the happy news on her Instagram account with a picture of the newborn’s […] The post Actress Noor Bukhari’s Family Expands with the Arrival of a Baby Boy appeared first on Online English News - Latest Education, Business & Trending Enews.\"\n",
    "tulip = \"Suosikkisarjan viimeinen jakso nähdään Suomessa 29. toukokuuta.\"\n",
    "church = \"Syombua said Muendo left her house together with his wife and then two-and-a-half year-old son for Mackenzie’s church.\"\n",
    "cryptocurrency = \"Finance platform Wormhole has been hacked, and cryptocurrency worth more than $A449 million stolen.\"\n",
    "nft_ger = \"Die Popularität von künstlicher Intelligenz (KI) hat in diesem Jahr weltweit stark zugenommen. Zahlreiche Plattformen wie Openai’s Chatgpt 3.5, Chatgpt 4.0, DALL-E, Stable Diffusion sowie innovative Tools wie Midjourney und Google’s Bard sind derzeit ein großer Trend im Internet. Inmitten dieser technologischen Revolution hat Crypto.com CEO Kris Marszalek kürzlich eine Veranstaltung abgehalten, bei der er …\""
   ]
  },
  {
   "cell_type": "code",
   "execution_count": null,
   "metadata": {},
   "outputs": [],
   "source": [
    "import requests\n",
    "\n",
    "# Remplacez API_KEY par votre clé API si nécessaire\n",
    "API_KEY = 'pub_21583f7c244644f662d18248c2be0396ebc44'\n",
    "\n",
    "# Remplacez l'URL par l'URL de l'API que vous souhaitez appeler\n",
    "url = 'https://newsdata.io/api/1/news?apikey={api_key}&q={val}'\n",
    "\n",
    "# Définir les paramètres de requête si nécessaire\n",
    "params = {\n",
    "    'paramètre1': 'valeur1',\n",
    "    'paramètre2': 'valeur2'\n",
    "}\n",
    "\n",
    "# Ajouter la clé API à la requête si nécessaire\n",
    "headers = {\n",
    "    'Authorization': f'Bearer {API_KEY}'\n",
    "}\n",
    "\n",
    "# Effectuer la requête GET et stocker la réponse dans la variable response\n",
    "response = requests.get(url, params=params, headers=headers)\n",
    "\n",
    "# Vérifier si la requête a réussi (code de statut 200 signifie succès)\n",
    "if response.status_code == 200:\n",
    "    # Imprimer la réponse au format JSON\n",
    "    print(response.json())\n",
    "else:\n",
    "    # Afficher le code d'erreur si la requête a échoué\n",
    "    print(f'Erreur {response.status_code}: {response.reason}')\n"
   ]
  },
  {
   "cell_type": "code",
   "execution_count": 3,
   "metadata": {},
   "outputs": [],
   "source": [
    "#val = input('Enter a topic')"
   ]
  },
  {
   "cell_type": "code",
   "execution_count": 1,
   "metadata": {},
   "outputs": [],
   "source": [
    "url_api = \"https://newsdata.io/api/1/news?apikey={api_key}&q={val}\" "
   ]
  },
  {
   "cell_type": "code",
   "execution_count": 7,
   "metadata": {},
   "outputs": [],
   "source": [
    "# PT\n",
    "model = AutoModelForSequenceClassification.from_pretrained(MODEL)\n",
    "model.save_pretrained(MODEL)\n",
    "\n",
    "text = \"- Kazakhstan and Tajikistan signed a concept on the establishment of a joint venture, which will be located in Tajikistan and assist entrepreneurs of the two parties in the development of mutual trade, Kazinform reports with reference to Chairman of the Board of the Foreign Trade Chamber of Kazakhstan Ayan Yerenov. \\\"We have signed a concept with our colleagues to establish a joint venture in Tajikistan. This enterprise will assist entrepreneurs in the development of mutual trade, as well as in the development of trade with third countries,\\\" Yerenov said at the Kazakh-Tajik business forum. He added that, according to a preliminary analysis, Kazakh enterprises will be able to increase the additional volume of non-primary exports to Tajikistan worth of more than $170 million. This figure can grow to $2 billion in the next two years, the Chairman assured. \\\"We have already moved from the implementation of individual projects to a systemic partnership in the economy. This is evidenced by the agreements signed today for more than $1 billion,\\\" Yerenov noted. According to him, it is also planned to conduct a trade mission this year, where the target indicator will be $120 million. Great prospects for the development of cooperation exist in the petrochemical and pharmaceutical industries. Deputy Prime Minister of Tajikistan Sulaymon Ziezoda, speaking about the agreements with Kazakhstan reached at the business forum in Astana, said that an agreement was signed between the countries on the construction of wholesale distribution centers in order to increase the supply of fruits and vegetables that are in demand in Kazakhstan. He also expressed confidence that the issue of resuming air traffic between Dushanbe and Astana will be resolved.\"\n",
    "text = preprocess(text)\n",
    "encoded_input = tokenizer(text, return_tensors='pt')\n",
    "output = model(**encoded_input)\n",
    "scores = output[0][0].detach().numpy()\n",
    "scores = softmax(scores)\n"
   ]
  },
  {
   "cell_type": "code",
   "execution_count": null,
   "metadata": {},
   "outputs": [],
   "source": [
    "\n",
    "# # TF\n",
    "# model = TFAutoModelForSequenceClassification.from_pretrained(MODEL)\n",
    "# model.save_pretrained(MODEL)\n",
    "\n",
    "# text = \"Good night 😊\"\n",
    "# encoded_input = tokenizer(text, return_tensors='tf')\n",
    "# output = model(encoded_input)\n",
    "# scores = output[0][0].numpy()\n",
    "# scores = softmax(scores)\n"
   ]
  },
  {
   "cell_type": "code",
   "execution_count": 8,
   "metadata": {},
   "outputs": [
    {
     "name": "stdout",
     "output_type": "stream",
     "text": [
      "1) positive 0.734\n",
      "2) neutral 0.2627\n",
      "3) negative 0.0033\n"
     ]
    }
   ],
   "source": [
    "ranking = np.argsort(scores)\n",
    "ranking = ranking[::-1]\n",
    "for i in range(scores.shape[0]):\n",
    "    l = labels[ranking[i]]\n",
    "    s = scores[ranking[i]]\n",
    "    print(f\"{i+1}) {l} {np.round(float(s), 4)}\")\n"
   ]
  }
 ],
 "metadata": {
  "kernelspec": {
   "display_name": "simplon",
   "language": "python",
   "name": "python3"
  },
  "language_info": {
   "codemirror_mode": {
    "name": "ipython",
    "version": 3
   },
   "file_extension": ".py",
   "mimetype": "text/x-python",
   "name": "python",
   "nbconvert_exporter": "python",
   "pygments_lexer": "ipython3",
   "version": "3.8.12"
  },
  "orig_nbformat": 4
 },
 "nbformat": 4,
 "nbformat_minor": 2
}
